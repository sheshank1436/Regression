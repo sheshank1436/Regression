{
 "cells": [
  {
   "cell_type": "markdown",
   "metadata": {},
   "source": [
    "#### 1. What Are the Basic Assumption for applying the Linear Regression Model? \n",
    "\n",
    "\n",
    "There are four assumptions associated with a linear regression model:\n",
    "\n",
    "- Linearity: The relationship between X and the mean of Y is linear.\n",
    "- Homoscedasticity: The variance of residual is the same for any value of X.Homoskedastic (also spelled \"homoscedastic\") refers to a condition in which the variance of the residual, or error term, in a regression model is constant. That is, the error term does not vary much as the value of the predictor variable changes.\n",
    "- Independence: Observations are independent of each other.\n",
    "- Normality(skewness): For any fixed value of X, Y is normally distributed."
   ]
  },
  {
   "cell_type": "markdown",
   "metadata": {},
   "source": [
    "#### 2.Advantages\n",
    "- Linear regression performs exceptionally well for linearly separable data\n",
    "- Easy to implement and train the model\n",
    "- It can handle overfitting using dimensionlity reduction techniques and cross validation and regularization"
   ]
  },
  {
   "cell_type": "markdown",
   "metadata": {},
   "source": [
    "#### 3. Disadvantages\n",
    "- Sometimes Lot of Feature Engineering Is required\n",
    "- If the independent features are correlated it may affect performance\n",
    "- It is often quite prone to noise and overfitting"
   ]
  },
  {
   "cell_type": "markdown",
   "metadata": {},
   "source": [
    "#### 4. Whether Feature Scaling is required?\n",
    "- Yes\n",
    "- Because whenever we are talking or using optimizer, loss function there we need to scale the data\n",
    "- In ANN also we do feature scaling because we are using Gradient descent optimization\n",
    "- If we dont do feature scaling our gradients will be very much bigger\n",
    "- If we do feature scaling we can reach the global minima in a very short time"
   ]
  },
  {
   "cell_type": "markdown",
   "metadata": {},
   "source": [
    "#### 5. Impact of Missing Values?\n",
    "- It is sensitive to missing values\n",
    "- we need to handle missing values by using some feature engineering Techniques"
   ]
  },
  {
   "cell_type": "markdown",
   "metadata": {},
   "source": [
    "#### 6. Impact of outliers?\n",
    "- It is also important to check for outliers since linear regression is sensitive to outlier effects.\n",
    "- Due to outliers the regression line slope changes which eventually leads to wrong predictions\n",
    "- linear regression needs the relationship between the independent and dependent variables to be linear. "
   ]
  },
  {
   "cell_type": "markdown",
   "metadata": {},
   "source": [
    "#### 7.HyperParameter Tuning\n",
    "- Ridge Regression\n",
    "- Lasso Regression"
   ]
  },
  {
   "cell_type": "markdown",
   "metadata": {},
   "source": [
    "#### 8. Perfomance metrics\n",
    "- R.Square\n",
    "- Adjusted R.Square"
   ]
  },
  {
   "cell_type": "markdown",
   "metadata": {},
   "source": [
    "## Steps  To perform\n",
    "![steps_in_MachineLearning](steps.png)\n",
    "\n",
    "\n",
    "- Gathering Data\n",
    "- Preprocessing the Data\n",
    "- Exploratory Data Analysis.\n",
    "- Feature Engineering, Feature Scaling.\n",
    "- Choosing a Model\n",
    "- Training\n",
    "- Model Evaluation\n",
    "- Hyperparameter Tuning\n",
    "- prediction"
   ]
  },
  {
   "cell_type": "markdown",
   "metadata": {},
   "source": [
    "- https://towardsdatascience.com/top-3-methods-for-handling-skewed-data-1334e0debf45\n",
    "- https://jeffmacaluso.github.io/post/LinearRegressionAssumptions/\n",
    "- https://towardsdatascience.com/assumptions-of-linear-regression-5d87c347140\n",
    "- https://towardsdatascience.com/verifying-and-tackling-the-assumptions-of-linear-regression-32126acea67b"
   ]
  },
  {
   "cell_type": "code",
   "execution_count": null,
   "metadata": {},
   "outputs": [],
   "source": []
  }
 ],
 "metadata": {
  "kernelspec": {
   "display_name": "Python 3",
   "language": "python",
   "name": "python3"
  },
  "language_info": {
   "codemirror_mode": {
    "name": "ipython",
    "version": 3
   },
   "file_extension": ".py",
   "mimetype": "text/x-python",
   "name": "python",
   "nbconvert_exporter": "python",
   "pygments_lexer": "ipython3",
   "version": "3.8.3"
  }
 },
 "nbformat": 4,
 "nbformat_minor": 4
}
